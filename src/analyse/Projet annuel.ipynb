{
 "cells": [
  {
   "cell_type": "markdown",
   "id": "7d78ed6b",
   "metadata": {},
   "source": [
    "## Projet Annuel"
   ]
  },
  {
   "cell_type": "code",
   "execution_count": 1,
   "id": "f30ad46b",
   "metadata": {},
   "outputs": [],
   "source": [
    "#librairies de traitement des données\n",
    "import numpy as np\n",
    "import pandas as pd\n",
    "\n",
    "# Librairie de visualisation\n",
    "import seaborn as sns\n",
    "import matplotlib.pyplot as plt\n",
    "\n",
    "# librairies de modélisation et prédictions\n",
    "from sklearn.model_selection import train_test_split\n",
    "from sklearn.preprocessing import StandardScaler\n",
    "from sklearn.linear_model import LogisticRegression\n",
    "from sklearn.metrics import accuracy_score, confusion_matrix"
   ]
  },
  {
   "cell_type": "markdown",
   "id": "b9aeea20",
   "metadata": {},
   "source": [
    "### Import des données"
   ]
  },
  {
   "cell_type": "code",
   "execution_count": 2,
   "id": "572e1390",
   "metadata": {},
   "outputs": [
    {
     "data": {
      "text/html": [
       "<div>\n",
       "<style scoped>\n",
       "    .dataframe tbody tr th:only-of-type {\n",
       "        vertical-align: middle;\n",
       "    }\n",
       "\n",
       "    .dataframe tbody tr th {\n",
       "        vertical-align: top;\n",
       "    }\n",
       "\n",
       "    .dataframe thead th {\n",
       "        text-align: right;\n",
       "    }\n",
       "</style>\n",
       "<table border=\"1\" class=\"dataframe\">\n",
       "  <thead>\n",
       "    <tr style=\"text-align: right;\">\n",
       "      <th></th>\n",
       "      <th>ID</th>\n",
       "      <th>PRG</th>\n",
       "      <th>PL</th>\n",
       "      <th>PR</th>\n",
       "      <th>SK</th>\n",
       "      <th>TS</th>\n",
       "      <th>M11</th>\n",
       "      <th>BD2</th>\n",
       "      <th>Age</th>\n",
       "      <th>Insurance</th>\n",
       "      <th>Sepssis</th>\n",
       "    </tr>\n",
       "  </thead>\n",
       "  <tbody>\n",
       "    <tr>\n",
       "      <th>0</th>\n",
       "      <td>ICU200010</td>\n",
       "      <td>6</td>\n",
       "      <td>148</td>\n",
       "      <td>72</td>\n",
       "      <td>35</td>\n",
       "      <td>0</td>\n",
       "      <td>33.6</td>\n",
       "      <td>0.627</td>\n",
       "      <td>50</td>\n",
       "      <td>0</td>\n",
       "      <td>Positive</td>\n",
       "    </tr>\n",
       "    <tr>\n",
       "      <th>1</th>\n",
       "      <td>ICU200011</td>\n",
       "      <td>1</td>\n",
       "      <td>85</td>\n",
       "      <td>66</td>\n",
       "      <td>29</td>\n",
       "      <td>0</td>\n",
       "      <td>26.6</td>\n",
       "      <td>0.351</td>\n",
       "      <td>31</td>\n",
       "      <td>0</td>\n",
       "      <td>Negative</td>\n",
       "    </tr>\n",
       "    <tr>\n",
       "      <th>2</th>\n",
       "      <td>ICU200012</td>\n",
       "      <td>8</td>\n",
       "      <td>183</td>\n",
       "      <td>64</td>\n",
       "      <td>0</td>\n",
       "      <td>0</td>\n",
       "      <td>23.3</td>\n",
       "      <td>0.672</td>\n",
       "      <td>32</td>\n",
       "      <td>1</td>\n",
       "      <td>Positive</td>\n",
       "    </tr>\n",
       "    <tr>\n",
       "      <th>3</th>\n",
       "      <td>ICU200013</td>\n",
       "      <td>1</td>\n",
       "      <td>89</td>\n",
       "      <td>66</td>\n",
       "      <td>23</td>\n",
       "      <td>94</td>\n",
       "      <td>28.1</td>\n",
       "      <td>0.167</td>\n",
       "      <td>21</td>\n",
       "      <td>1</td>\n",
       "      <td>Negative</td>\n",
       "    </tr>\n",
       "    <tr>\n",
       "      <th>4</th>\n",
       "      <td>ICU200014</td>\n",
       "      <td>0</td>\n",
       "      <td>137</td>\n",
       "      <td>40</td>\n",
       "      <td>35</td>\n",
       "      <td>168</td>\n",
       "      <td>43.1</td>\n",
       "      <td>2.288</td>\n",
       "      <td>33</td>\n",
       "      <td>1</td>\n",
       "      <td>Positive</td>\n",
       "    </tr>\n",
       "  </tbody>\n",
       "</table>\n",
       "</div>"
      ],
      "text/plain": [
       "          ID  PRG   PL  PR  SK   TS   M11    BD2  Age  Insurance   Sepssis\n",
       "0  ICU200010    6  148  72  35    0  33.6  0.627   50          0  Positive\n",
       "1  ICU200011    1   85  66  29    0  26.6  0.351   31          0  Negative\n",
       "2  ICU200012    8  183  64   0    0  23.3  0.672   32          1  Positive\n",
       "3  ICU200013    1   89  66  23   94  28.1  0.167   21          1  Negative\n",
       "4  ICU200014    0  137  40  35  168  43.1  2.288   33          1  Positive"
      ]
     },
     "execution_count": 2,
     "metadata": {},
     "output_type": "execute_result"
    }
   ],
   "source": [
    "data = pd.read_csv(\"data/data_sepsis.csv\", sep=\",\")\n",
    "data.head()"
   ]
  },
  {
   "cell_type": "code",
   "execution_count": 3,
   "id": "57c37451",
   "metadata": {},
   "outputs": [],
   "source": [
    "# TRAITEMENT\n",
    "# Supppréssion de la variable ID\n",
    "# Numérisation de la variable Sepssis\n",
    "# Normalisation de des features\n",
    "# Traitement des valeurs manquantes si elles existe\n",
    "\n",
    "# ANALYSE\n",
    "# Analyse des variables features (corrélation) pour sélectionner les variables\n",
    "# Comparaison des des individus positives et negatives en fonction de l'age et d'autres variable pertinantes\n",
    "# Calcul du nombre du nombre d'individu positive et négative pour savoir si les deux classes sont équilibrées.\n",
    "\n",
    "# MODÉLISATION\n",
    "# Modèle de régression logistique\n",
    "# Sélection du modèle\n",
    "# Autresmodèles\n",
    "\n",
    "#PREPATION D'UN PIPELINE POUR LA PRODUCTION\n",
    "\n",
    "#SAUVEGARDE DU MEILLEUR MODÈLE."
   ]
  },
  {
   "cell_type": "markdown",
   "id": "2848e16e",
   "metadata": {},
   "source": [
    "## 1 Traitement des données"
   ]
  },
  {
   "cell_type": "code",
   "execution_count": 4,
   "id": "b8fc997c",
   "metadata": {},
   "outputs": [
    {
     "data": {
      "text/html": [
       "<div>\n",
       "<style scoped>\n",
       "    .dataframe tbody tr th:only-of-type {\n",
       "        vertical-align: middle;\n",
       "    }\n",
       "\n",
       "    .dataframe tbody tr th {\n",
       "        vertical-align: top;\n",
       "    }\n",
       "\n",
       "    .dataframe thead th {\n",
       "        text-align: right;\n",
       "    }\n",
       "</style>\n",
       "<table border=\"1\" class=\"dataframe\">\n",
       "  <thead>\n",
       "    <tr style=\"text-align: right;\">\n",
       "      <th></th>\n",
       "      <th>PRG</th>\n",
       "      <th>PL</th>\n",
       "      <th>PR</th>\n",
       "      <th>SK</th>\n",
       "      <th>TS</th>\n",
       "      <th>M11</th>\n",
       "      <th>BD2</th>\n",
       "      <th>Age</th>\n",
       "      <th>Insurance</th>\n",
       "      <th>Sepssis</th>\n",
       "    </tr>\n",
       "  </thead>\n",
       "  <tbody>\n",
       "    <tr>\n",
       "      <th>0</th>\n",
       "      <td>6</td>\n",
       "      <td>148</td>\n",
       "      <td>72</td>\n",
       "      <td>35</td>\n",
       "      <td>0</td>\n",
       "      <td>33.6</td>\n",
       "      <td>0.627</td>\n",
       "      <td>50</td>\n",
       "      <td>0</td>\n",
       "      <td>Positive</td>\n",
       "    </tr>\n",
       "    <tr>\n",
       "      <th>1</th>\n",
       "      <td>1</td>\n",
       "      <td>85</td>\n",
       "      <td>66</td>\n",
       "      <td>29</td>\n",
       "      <td>0</td>\n",
       "      <td>26.6</td>\n",
       "      <td>0.351</td>\n",
       "      <td>31</td>\n",
       "      <td>0</td>\n",
       "      <td>Negative</td>\n",
       "    </tr>\n",
       "    <tr>\n",
       "      <th>2</th>\n",
       "      <td>8</td>\n",
       "      <td>183</td>\n",
       "      <td>64</td>\n",
       "      <td>0</td>\n",
       "      <td>0</td>\n",
       "      <td>23.3</td>\n",
       "      <td>0.672</td>\n",
       "      <td>32</td>\n",
       "      <td>1</td>\n",
       "      <td>Positive</td>\n",
       "    </tr>\n",
       "    <tr>\n",
       "      <th>3</th>\n",
       "      <td>1</td>\n",
       "      <td>89</td>\n",
       "      <td>66</td>\n",
       "      <td>23</td>\n",
       "      <td>94</td>\n",
       "      <td>28.1</td>\n",
       "      <td>0.167</td>\n",
       "      <td>21</td>\n",
       "      <td>1</td>\n",
       "      <td>Negative</td>\n",
       "    </tr>\n",
       "    <tr>\n",
       "      <th>4</th>\n",
       "      <td>0</td>\n",
       "      <td>137</td>\n",
       "      <td>40</td>\n",
       "      <td>35</td>\n",
       "      <td>168</td>\n",
       "      <td>43.1</td>\n",
       "      <td>2.288</td>\n",
       "      <td>33</td>\n",
       "      <td>1</td>\n",
       "      <td>Positive</td>\n",
       "    </tr>\n",
       "  </tbody>\n",
       "</table>\n",
       "</div>"
      ],
      "text/plain": [
       "   PRG   PL  PR  SK   TS   M11    BD2  Age  Insurance   Sepssis\n",
       "0    6  148  72  35    0  33.6  0.627   50          0  Positive\n",
       "1    1   85  66  29    0  26.6  0.351   31          0  Negative\n",
       "2    8  183  64   0    0  23.3  0.672   32          1  Positive\n",
       "3    1   89  66  23   94  28.1  0.167   21          1  Negative\n",
       "4    0  137  40  35  168  43.1  2.288   33          1  Positive"
      ]
     },
     "execution_count": 4,
     "metadata": {},
     "output_type": "execute_result"
    }
   ],
   "source": [
    "#Suppréssion de la variable IS\n",
    "data = data.drop(['ID'], axis=1)\n",
    "data.head()"
   ]
  },
  {
   "cell_type": "code",
   "execution_count": 5,
   "id": "01ce27cd",
   "metadata": {},
   "outputs": [
    {
     "name": "stdout",
     "output_type": "stream",
     "text": [
      "<class 'pandas.core.frame.DataFrame'>\n",
      "RangeIndex: 599 entries, 0 to 598\n",
      "Data columns (total 10 columns):\n",
      " #   Column     Non-Null Count  Dtype  \n",
      "---  ------     --------------  -----  \n",
      " 0   PRG        599 non-null    int64  \n",
      " 1   PL         599 non-null    int64  \n",
      " 2   PR         599 non-null    int64  \n",
      " 3   SK         599 non-null    int64  \n",
      " 4   TS         599 non-null    int64  \n",
      " 5   M11        599 non-null    float64\n",
      " 6   BD2        599 non-null    float64\n",
      " 7   Age        599 non-null    int64  \n",
      " 8   Insurance  599 non-null    int64  \n",
      " 9   Sepssis    599 non-null    object \n",
      "dtypes: float64(2), int64(7), object(1)\n",
      "memory usage: 46.9+ KB\n"
     ]
    }
   ],
   "source": [
    "data.info()"
   ]
  },
  {
   "cell_type": "code",
   "execution_count": 6,
   "id": "6cd03dcb",
   "metadata": {},
   "outputs": [],
   "source": [
    "# Il n'existe aucune valeur manquantes dans le jeu de données"
   ]
  },
  {
   "cell_type": "markdown",
   "id": "99b37d82",
   "metadata": {},
   "source": [
    "### 1.1 Numérisation de la variable Sepssis"
   ]
  },
  {
   "cell_type": "code",
   "execution_count": 7,
   "id": "67399812",
   "metadata": {},
   "outputs": [
    {
     "data": {
      "text/html": [
       "<div>\n",
       "<style scoped>\n",
       "    .dataframe tbody tr th:only-of-type {\n",
       "        vertical-align: middle;\n",
       "    }\n",
       "\n",
       "    .dataframe tbody tr th {\n",
       "        vertical-align: top;\n",
       "    }\n",
       "\n",
       "    .dataframe thead th {\n",
       "        text-align: right;\n",
       "    }\n",
       "</style>\n",
       "<table border=\"1\" class=\"dataframe\">\n",
       "  <thead>\n",
       "    <tr style=\"text-align: right;\">\n",
       "      <th></th>\n",
       "      <th>PRG</th>\n",
       "      <th>PL</th>\n",
       "      <th>PR</th>\n",
       "      <th>SK</th>\n",
       "      <th>TS</th>\n",
       "      <th>M11</th>\n",
       "      <th>BD2</th>\n",
       "      <th>Age</th>\n",
       "      <th>Insurance</th>\n",
       "      <th>Sepssis</th>\n",
       "    </tr>\n",
       "  </thead>\n",
       "  <tbody>\n",
       "    <tr>\n",
       "      <th>0</th>\n",
       "      <td>6</td>\n",
       "      <td>148</td>\n",
       "      <td>72</td>\n",
       "      <td>35</td>\n",
       "      <td>0</td>\n",
       "      <td>33.6</td>\n",
       "      <td>0.627</td>\n",
       "      <td>50</td>\n",
       "      <td>0</td>\n",
       "      <td>1</td>\n",
       "    </tr>\n",
       "    <tr>\n",
       "      <th>1</th>\n",
       "      <td>1</td>\n",
       "      <td>85</td>\n",
       "      <td>66</td>\n",
       "      <td>29</td>\n",
       "      <td>0</td>\n",
       "      <td>26.6</td>\n",
       "      <td>0.351</td>\n",
       "      <td>31</td>\n",
       "      <td>0</td>\n",
       "      <td>0</td>\n",
       "    </tr>\n",
       "    <tr>\n",
       "      <th>2</th>\n",
       "      <td>8</td>\n",
       "      <td>183</td>\n",
       "      <td>64</td>\n",
       "      <td>0</td>\n",
       "      <td>0</td>\n",
       "      <td>23.3</td>\n",
       "      <td>0.672</td>\n",
       "      <td>32</td>\n",
       "      <td>1</td>\n",
       "      <td>1</td>\n",
       "    </tr>\n",
       "    <tr>\n",
       "      <th>3</th>\n",
       "      <td>1</td>\n",
       "      <td>89</td>\n",
       "      <td>66</td>\n",
       "      <td>23</td>\n",
       "      <td>94</td>\n",
       "      <td>28.1</td>\n",
       "      <td>0.167</td>\n",
       "      <td>21</td>\n",
       "      <td>1</td>\n",
       "      <td>0</td>\n",
       "    </tr>\n",
       "    <tr>\n",
       "      <th>4</th>\n",
       "      <td>0</td>\n",
       "      <td>137</td>\n",
       "      <td>40</td>\n",
       "      <td>35</td>\n",
       "      <td>168</td>\n",
       "      <td>43.1</td>\n",
       "      <td>2.288</td>\n",
       "      <td>33</td>\n",
       "      <td>1</td>\n",
       "      <td>1</td>\n",
       "    </tr>\n",
       "  </tbody>\n",
       "</table>\n",
       "</div>"
      ],
      "text/plain": [
       "   PRG   PL  PR  SK   TS   M11    BD2  Age  Insurance  Sepssis\n",
       "0    6  148  72  35    0  33.6  0.627   50          0        1\n",
       "1    1   85  66  29    0  26.6  0.351   31          0        0\n",
       "2    8  183  64   0    0  23.3  0.672   32          1        1\n",
       "3    1   89  66  23   94  28.1  0.167   21          1        0\n",
       "4    0  137  40  35  168  43.1  2.288   33          1        1"
      ]
     },
     "execution_count": 7,
     "metadata": {},
     "output_type": "execute_result"
    }
   ],
   "source": [
    "data = data.replace({\"Positive\":1, \"Negative\":0})\n",
    "data.head()"
   ]
  },
  {
   "cell_type": "markdown",
   "id": "5da10cc4",
   "metadata": {},
   "source": [
    "### 1.2 Normalisation des features"
   ]
  },
  {
   "cell_type": "code",
   "execution_count": 8,
   "id": "ed0303cb",
   "metadata": {},
   "outputs": [],
   "source": [
    "data_target = data[\"Sepssis\"]\n",
    "data_features = data.drop([\"Sepssis\"], axis=1)"
   ]
  },
  {
   "cell_type": "code",
   "execution_count": 9,
   "id": "2d7165d1",
   "metadata": {},
   "outputs": [
    {
     "data": {
      "text/html": [
       "<div>\n",
       "<style scoped>\n",
       "    .dataframe tbody tr th:only-of-type {\n",
       "        vertical-align: middle;\n",
       "    }\n",
       "\n",
       "    .dataframe tbody tr th {\n",
       "        vertical-align: top;\n",
       "    }\n",
       "\n",
       "    .dataframe thead th {\n",
       "        text-align: right;\n",
       "    }\n",
       "</style>\n",
       "<table border=\"1\" class=\"dataframe\">\n",
       "  <thead>\n",
       "    <tr style=\"text-align: right;\">\n",
       "      <th></th>\n",
       "      <th>PRG</th>\n",
       "      <th>PL</th>\n",
       "      <th>PR</th>\n",
       "      <th>SK</th>\n",
       "      <th>TS</th>\n",
       "      <th>M11</th>\n",
       "      <th>BD2</th>\n",
       "      <th>Age</th>\n",
       "      <th>Insurance</th>\n",
       "    </tr>\n",
       "  </thead>\n",
       "  <tbody>\n",
       "    <tr>\n",
       "      <th>0</th>\n",
       "      <td>0.647402</td>\n",
       "      <td>0.852744</td>\n",
       "      <td>0.169109</td>\n",
       "      <td>0.902098</td>\n",
       "      <td>-0.682191</td>\n",
       "      <td>0.209955</td>\n",
       "      <td>0.432333</td>\n",
       "      <td>1.413836</td>\n",
       "      <td>-1.478570</td>\n",
       "    </tr>\n",
       "    <tr>\n",
       "      <th>1</th>\n",
       "      <td>-0.840679</td>\n",
       "      <td>-1.076512</td>\n",
       "      <td>-0.141457</td>\n",
       "      <td>0.527197</td>\n",
       "      <td>-0.682191</td>\n",
       "      <td>-0.664876</td>\n",
       "      <td>-0.386002</td>\n",
       "      <td>-0.193804</td>\n",
       "      <td>-1.478570</td>\n",
       "    </tr>\n",
       "    <tr>\n",
       "      <th>2</th>\n",
       "      <td>1.242635</td>\n",
       "      <td>1.924553</td>\n",
       "      <td>-0.244979</td>\n",
       "      <td>-1.284822</td>\n",
       "      <td>-0.682191</td>\n",
       "      <td>-1.077297</td>\n",
       "      <td>0.565757</td>\n",
       "      <td>-0.109191</td>\n",
       "      <td>0.676329</td>\n",
       "    </tr>\n",
       "    <tr>\n",
       "      <th>3</th>\n",
       "      <td>-0.840679</td>\n",
       "      <td>-0.954020</td>\n",
       "      <td>-0.141457</td>\n",
       "      <td>0.152297</td>\n",
       "      <td>0.124823</td>\n",
       "      <td>-0.477412</td>\n",
       "      <td>-0.931558</td>\n",
       "      <td>-1.039930</td>\n",
       "      <td>0.676329</td>\n",
       "    </tr>\n",
       "    <tr>\n",
       "      <th>4</th>\n",
       "      <td>-1.138295</td>\n",
       "      <td>0.515890</td>\n",
       "      <td>-1.487246</td>\n",
       "      <td>0.902098</td>\n",
       "      <td>0.760132</td>\n",
       "      <td>1.397227</td>\n",
       "      <td>5.357163</td>\n",
       "      <td>-0.024579</td>\n",
       "      <td>0.676329</td>\n",
       "    </tr>\n",
       "  </tbody>\n",
       "</table>\n",
       "</div>"
      ],
      "text/plain": [
       "        PRG        PL        PR        SK        TS       M11       BD2  \\\n",
       "0  0.647402  0.852744  0.169109  0.902098 -0.682191  0.209955  0.432333   \n",
       "1 -0.840679 -1.076512 -0.141457  0.527197 -0.682191 -0.664876 -0.386002   \n",
       "2  1.242635  1.924553 -0.244979 -1.284822 -0.682191 -1.077297  0.565757   \n",
       "3 -0.840679 -0.954020 -0.141457  0.152297  0.124823 -0.477412 -0.931558   \n",
       "4 -1.138295  0.515890 -1.487246  0.902098  0.760132  1.397227  5.357163   \n",
       "\n",
       "        Age  Insurance  \n",
       "0  1.413836  -1.478570  \n",
       "1 -0.193804  -1.478570  \n",
       "2 -0.109191   0.676329  \n",
       "3 -1.039930   0.676329  \n",
       "4 -0.024579   0.676329  "
      ]
     },
     "execution_count": 9,
     "metadata": {},
     "output_type": "execute_result"
    }
   ],
   "source": [
    "scaler = StandardScaler()\n",
    "features_columns = data_features.columns\n",
    "data_features = scaler.fit_transform(data_features)\n",
    "data_features = pd.DataFrame(data_features, columns=features_columns)\n",
    "data_features.head()"
   ]
  },
  {
   "cell_type": "markdown",
   "id": "45f13ed2",
   "metadata": {},
   "source": [
    "### 1.3 Traitement des valeurs manquantes et aberrantes"
   ]
  },
  {
   "cell_type": "code",
   "execution_count": 10,
   "id": "9e97ffbd",
   "metadata": {},
   "outputs": [
    {
     "name": "stdout",
     "output_type": "stream",
     "text": [
      "<class 'pandas.core.frame.DataFrame'>\n",
      "RangeIndex: 599 entries, 0 to 598\n",
      "Data columns (total 9 columns):\n",
      " #   Column     Non-Null Count  Dtype  \n",
      "---  ------     --------------  -----  \n",
      " 0   PRG        599 non-null    float64\n",
      " 1   PL         599 non-null    float64\n",
      " 2   PR         599 non-null    float64\n",
      " 3   SK         599 non-null    float64\n",
      " 4   TS         599 non-null    float64\n",
      " 5   M11        599 non-null    float64\n",
      " 6   BD2        599 non-null    float64\n",
      " 7   Age        599 non-null    float64\n",
      " 8   Insurance  599 non-null    float64\n",
      "dtypes: float64(9)\n",
      "memory usage: 42.2 KB\n"
     ]
    }
   ],
   "source": [
    "# Compter de nombre de valeurs manquantes\n",
    "data_features.info()"
   ]
  },
  {
   "cell_type": "markdown",
   "id": "28b6133d",
   "metadata": {},
   "source": [
    "## 2. Analyse"
   ]
  },
  {
   "cell_type": "markdown",
   "id": "b786d09b",
   "metadata": {},
   "source": [
    "## 2.1 Matrice de corrélation"
   ]
  },
  {
   "cell_type": "code",
   "execution_count": 11,
   "id": "a9e0f3ad",
   "metadata": {},
   "outputs": [
    {
     "data": {
      "image/png": "[encoded data removed]",
      "text/plain": [
       "<Figure size 1200x600 with 2 Axes>"
      ]
     },
     "metadata": {},
     "output_type": "display_data"
    }
   ],
   "source": [
    "data_corr = data_features.corr()\n",
    "plt.figure(figsize=(12,6))\n",
    "axi1 = sns.heatmap(data_corr, annot=True,fmt=\".1f\",linewidth=.5, cmap=\"RdBu\")\n",
    "plt.show()"
   ]
  },
  {
   "cell_type": "code",
   "execution_count": 12,
   "id": "1e513979",
   "metadata": {},
   "outputs": [],
   "source": [
    "# Nous remarquons une corrélation entre la variable age et PRG."
   ]
  },
  {
   "cell_type": "code",
   "execution_count": 13,
   "id": "103e350f",
   "metadata": {},
   "outputs": [
    {
     "data": {
      "image/png": "[encoded data removed]",
      "text/plain": [
       "<Figure size 640x480 with 1 Axes>"
      ]
     },
     "metadata": {},
     "output_type": "display_data"
    }
   ],
   "source": [
    "sns.countplot(x=data_target)\n",
    "plt.show()"
   ]
  },
  {
   "cell_type": "code",
   "execution_count": 14,
   "id": "e066a82d",
   "metadata": {},
   "outputs": [],
   "source": [
    "# Nous pouvons remarquer un désiquilibre entre les individu positives et négative, nous devons donc prendre cette\n",
    "# information en compte lors de l'échantillonnage des données d'entrainement et de test."
   ]
  },
  {
   "cell_type": "markdown",
   "id": "2ab8b352",
   "metadata": {},
   "source": [
    "## 3. Modélisation"
   ]
  },
  {
   "cell_type": "markdown",
   "id": "3ee13032",
   "metadata": {},
   "source": [
    "## 3. regression logistique"
   ]
  },
  {
   "cell_type": "code",
   "execution_count": 15,
   "id": "79369cd8",
   "metadata": {},
   "outputs": [],
   "source": [
    "# Echantillonnage des données\n",
    "X_train, X_test, y_train, y_test = train_test_split(data_features, data_target,test_size=0.2,random_state=2023, shuffle=True, stratify=data_target)\n",
    "\n",
    "# lors de cet échantillonnage,nous passons la variable cible au parmettre pour nous assurer que la répartition \n",
    "# des classes est équilibrée entre les ensembles d'entraînement et de test"
   ]
  },
  {
   "cell_type": "code",
   "execution_count": 16,
   "id": "0ac7c8aa",
   "metadata": {},
   "outputs": [
    {
     "data": {
      "image/png": "[encoded data removed]",
      "text/plain": [
       "<Figure size 640x480 with 1 Axes>"
      ]
     },
     "metadata": {},
     "output_type": "display_data"
    }
   ],
   "source": [
    "# Instanciation du modèle\n",
    "sns.countplot(x=y_train)\n",
    "plt.title(\"Data train\")\n",
    "plt.show()"
   ]
  },
  {
   "cell_type": "code",
   "execution_count": 17,
   "id": "8020cce3",
   "metadata": {},
   "outputs": [
    {
     "data": {
      "image/png": "[encoded data removed]",
      "text/plain": [
       "<Figure size 640x480 with 1 Axes>"
      ]
     },
     "metadata": {},
     "output_type": "display_data"
    }
   ],
   "source": [
    "sns.countplot(x=y_test)\n",
    "plt.title(\"Data test\")\n",
    "plt.show()"
   ]
  },
  {
   "cell_type": "code",
   "execution_count": 18,
   "id": "089818f4",
   "metadata": {},
   "outputs": [],
   "source": [
    "# Instanciation et entrainement du modèle\n",
    "model_regLog = LogisticRegression().fit(X_train, y_train)"
   ]
  },
  {
   "cell_type": "code",
   "execution_count": 19,
   "id": "0b458bc1",
   "metadata": {},
   "outputs": [],
   "source": [
    "# Estimation du modèle\n",
    "predict = model_regLog.predict(X_test)\n",
    "predict_proba = model_regLog.predict_proba(X_test)"
   ]
  },
  {
   "cell_type": "code",
   "execution_count": 20,
   "id": "39791a85",
   "metadata": {},
   "outputs": [
    {
     "name": "stdout",
     "output_type": "stream",
     "text": [
      "Exactitude de la prédiction : 0.72\n"
     ]
    }
   ],
   "source": [
    "# Calcul de l'accuracy\n",
    "accuracy = accuracy_score(y_test, predict)\n",
    "print(\"Exactitude de la prédiction : {:.2f}\".format(accuracy))"
   ]
  },
  {
   "cell_type": "code",
   "execution_count": 21,
   "id": "21003bbe",
   "metadata": {},
   "outputs": [
    {
     "data": {
      "text/html": [
       "<div>\n",
       "<style scoped>\n",
       "    .dataframe tbody tr th:only-of-type {\n",
       "        vertical-align: middle;\n",
       "    }\n",
       "\n",
       "    .dataframe tbody tr th {\n",
       "        vertical-align: top;\n",
       "    }\n",
       "\n",
       "    .dataframe thead th {\n",
       "        text-align: right;\n",
       "    }\n",
       "</style>\n",
       "<table border=\"1\" class=\"dataframe\">\n",
       "  <thead>\n",
       "    <tr style=\"text-align: right;\">\n",
       "      <th></th>\n",
       "      <th>PRG</th>\n",
       "      <th>PL</th>\n",
       "      <th>PR</th>\n",
       "      <th>SK</th>\n",
       "      <th>TS</th>\n",
       "      <th>M11</th>\n",
       "      <th>BD2</th>\n",
       "      <th>Age</th>\n",
       "      <th>Insurance</th>\n",
       "      <th>Predict</th>\n",
       "    </tr>\n",
       "  </thead>\n",
       "  <tbody>\n",
       "    <tr>\n",
       "      <th>0</th>\n",
       "      <td>0.647402</td>\n",
       "      <td>0.852744</td>\n",
       "      <td>0.169109</td>\n",
       "      <td>0.902098</td>\n",
       "      <td>-0.682191</td>\n",
       "      <td>0.209955</td>\n",
       "      <td>0.432333</td>\n",
       "      <td>1.413836</td>\n",
       "      <td>-1.478570</td>\n",
       "      <td>1.0</td>\n",
       "    </tr>\n",
       "    <tr>\n",
       "      <th>1</th>\n",
       "      <td>-0.840679</td>\n",
       "      <td>-1.076512</td>\n",
       "      <td>-0.141457</td>\n",
       "      <td>0.527197</td>\n",
       "      <td>-0.682191</td>\n",
       "      <td>-0.664876</td>\n",
       "      <td>-0.386002</td>\n",
       "      <td>-0.193804</td>\n",
       "      <td>-1.478570</td>\n",
       "      <td>1.0</td>\n",
       "    </tr>\n",
       "    <tr>\n",
       "      <th>2</th>\n",
       "      <td>1.242635</td>\n",
       "      <td>1.924553</td>\n",
       "      <td>-0.244979</td>\n",
       "      <td>-1.284822</td>\n",
       "      <td>-0.682191</td>\n",
       "      <td>-1.077297</td>\n",
       "      <td>0.565757</td>\n",
       "      <td>-0.109191</td>\n",
       "      <td>0.676329</td>\n",
       "      <td>0.0</td>\n",
       "    </tr>\n",
       "    <tr>\n",
       "      <th>3</th>\n",
       "      <td>-0.840679</td>\n",
       "      <td>-0.954020</td>\n",
       "      <td>-0.141457</td>\n",
       "      <td>0.152297</td>\n",
       "      <td>0.124823</td>\n",
       "      <td>-0.477412</td>\n",
       "      <td>-0.931558</td>\n",
       "      <td>-1.039930</td>\n",
       "      <td>0.676329</td>\n",
       "      <td>0.0</td>\n",
       "    </tr>\n",
       "    <tr>\n",
       "      <th>4</th>\n",
       "      <td>-1.138295</td>\n",
       "      <td>0.515890</td>\n",
       "      <td>-1.487246</td>\n",
       "      <td>0.902098</td>\n",
       "      <td>0.760132</td>\n",
       "      <td>1.397227</td>\n",
       "      <td>5.357163</td>\n",
       "      <td>-0.024579</td>\n",
       "      <td>0.676329</td>\n",
       "      <td>1.0</td>\n",
       "    </tr>\n",
       "  </tbody>\n",
       "</table>\n",
       "</div>"
      ],
      "text/plain": [
       "        PRG        PL        PR        SK        TS       M11       BD2  \\\n",
       "0  0.647402  0.852744  0.169109  0.902098 -0.682191  0.209955  0.432333   \n",
       "1 -0.840679 -1.076512 -0.141457  0.527197 -0.682191 -0.664876 -0.386002   \n",
       "2  1.242635  1.924553 -0.244979 -1.284822 -0.682191 -1.077297  0.565757   \n",
       "3 -0.840679 -0.954020 -0.141457  0.152297  0.124823 -0.477412 -0.931558   \n",
       "4 -1.138295  0.515890 -1.487246  0.902098  0.760132  1.397227  5.357163   \n",
       "\n",
       "        Age  Insurance  Predict  \n",
       "0  1.413836  -1.478570      1.0  \n",
       "1 -0.193804  -1.478570      1.0  \n",
       "2 -0.109191   0.676329      0.0  \n",
       "3 -1.039930   0.676329      0.0  \n",
       "4 -0.024579   0.676329      1.0  "
      ]
     },
     "execution_count": 21,
     "metadata": {},
     "output_type": "execute_result"
    }
   ],
   "source": [
    "# Affichage des données prédites\n",
    "data_predict = pd.concat([data_features, pd.DataFrame(predict, columns=[\"Predict\"])], axis=1)\n",
    "data_predict.head()"
   ]
  },
  {
   "cell_type": "markdown",
   "id": "59055809",
   "metadata": {},
   "source": [
    "## 3. Sélection de modèle et de variables"
   ]
  },
  {
   "cell_type": "code",
   "execution_count": 22,
   "id": "9030f304",
   "metadata": {},
   "outputs": [],
   "source": [
    "# Il faut penser peut être à faire la sélection de modèle avec le pipeline (plusieurs modèle machine learning)"
   ]
  },
  {
   "cell_type": "markdown",
   "id": "656eb56a",
   "metadata": {},
   "source": [
    "## 4. Pipeline de production"
   ]
  },
  {
   "cell_type": "code",
   "execution_count": 23,
   "id": "a7facd97",
   "metadata": {},
   "outputs": [],
   "source": [
    "from sklearn.pipeline import Pipeline\n",
    "import joblib"
   ]
  },
  {
   "cell_type": "code",
   "execution_count": 24,
   "id": "8489b74e",
   "metadata": {},
   "outputs": [],
   "source": [
    "#Instanciation du pipeline\n",
    "pipe_modele = Pipeline([('scaler', StandardScaler()), ('classifier', LogisticRegression())])"
   ]
  },
  {
   "cell_type": "code",
   "execution_count": 25,
   "id": "1cb0cac1",
   "metadata": {},
   "outputs": [
    {
     "data": {
      "text/html": [
       "<style>#sk-container-id-1 {color: black;background-color: white;}#sk-container-id-1 pre{padding: 0;}#sk-container-id-1 div.sk-toggleable {background-color: white;}#sk-container-id-1 label.sk-toggleable__label {cursor: pointer;display: block;width: 100%;margin-bottom: 0;padding: 0.3em;box-sizing: border-box;text-align: center;}#sk-container-id-1 label.sk-toggleable__label-arrow:before {content: \"▸\";float: left;margin-right: 0.25em;color: #696969;}#sk-container-id-1 label.sk-toggleable__label-arrow:hover:before {color: black;}#sk-container-id-1 div.sk-estimator:hover label.sk-toggleable__label-arrow:before {color: black;}#sk-container-id-1 div.sk-toggleable__content {max-height: 0;max-width: 0;overflow: hidden;text-align: left;background-color: #f0f8ff;}#sk-container-id-1 div.sk-toggleable__content pre {margin: 0.2em;color: black;border-radius: 0.25em;background-color: #f0f8ff;}#sk-container-id-1 input.sk-toggleable__control:checked~div.sk-toggleable__content {max-height: 200px;max-width: 100%;overflow: auto;}#sk-container-id-1 input.sk-toggleable__control:checked~label.sk-toggleable__label-arrow:before {content: \"▾\";}#sk-container-id-1 div.sk-estimator input.sk-toggleable__control:checked~label.sk-toggleable__label {background-color: #d4ebff;}#sk-container-id-1 div.sk-label input.sk-toggleable__control:checked~label.sk-toggleable__label {background-color: #d4ebff;}#sk-container-id-1 input.sk-hidden--visually {border: 0;clip: rect(1px 1px 1px 1px);clip: rect(1px, 1px, 1px, 1px);height: 1px;margin: -1px;overflow: hidden;padding: 0;position: absolute;width: 1px;}#sk-container-id-1 div.sk-estimator {font-family: monospace;background-color: #f0f8ff;border: 1px dotted black;border-radius: 0.25em;box-sizing: border-box;margin-bottom: 0.5em;}#sk-container-id-1 div.sk-estimator:hover {background-color: #d4ebff;}#sk-container-id-1 div.sk-parallel-item::after {content: \"\";width: 100%;border-bottom: 1px solid gray;flex-grow: 1;}#sk-container-id-1 div.sk-label:hover label.sk-toggleable__label {background-color: #d4ebff;}#sk-container-id-1 div.sk-serial::before {content: \"\";position: absolute;border-left: 1px solid gray;box-sizing: border-box;top: 0;bottom: 0;left: 50%;z-index: 0;}#sk-container-id-1 div.sk-serial {display: flex;flex-direction: column;align-items: center;background-color: white;padding-right: 0.2em;padding-left: 0.2em;position: relative;}#sk-container-id-1 div.sk-item {position: relative;z-index: 1;}#sk-container-id-1 div.sk-parallel {display: flex;align-items: stretch;justify-content: center;background-color: white;position: relative;}#sk-container-id-1 div.sk-item::before, #sk-container-id-1 div.sk-parallel-item::before {content: \"\";position: absolute;border-left: 1px solid gray;box-sizing: border-box;top: 0;bottom: 0;left: 50%;z-index: -1;}#sk-container-id-1 div.sk-parallel-item {display: flex;flex-direction: column;z-index: 1;position: relative;background-color: white;}#sk-container-id-1 div.sk-parallel-item:first-child::after {align-self: flex-end;width: 50%;}#sk-container-id-1 div.sk-parallel-item:last-child::after {align-self: flex-start;width: 50%;}#sk-container-id-1 div.sk-parallel-item:only-child::after {width: 0;}#sk-container-id-1 div.sk-dashed-wrapped {border: 1px dashed gray;margin: 0 0.4em 0.5em 0.4em;box-sizing: border-box;padding-bottom: 0.4em;background-color: white;}#sk-container-id-1 div.sk-label label {font-family: monospace;font-weight: bold;display: inline-block;line-height: 1.2em;}#sk-container-id-1 div.sk-label-container {text-align: center;}#sk-container-id-1 div.sk-container {/* jupyter's `normalize.less` sets `[hidden] { display: none; }` but bootstrap.min.css set `[hidden] { display: none !important; }` so we also need the `!important` here to be able to override the default hidden behavior on the sphinx rendered scikit-learn.org. See: https://github.com/scikit-learn/scikit-learn/issues/21755 */display: inline-block !important;position: relative;}#sk-container-id-1 div.sk-text-repr-fallback {display: none;}</style><div id=\"sk-container-id-1\" class=\"sk-top-container\"><div class=\"sk-text-repr-fallback\"><pre>Pipeline(steps=[(&#x27;scaler&#x27;, StandardScaler()),\n",
       "                (&#x27;classifier&#x27;, LogisticRegression())])</pre><b>In a Jupyter environment, please rerun this cell to show the HTML representation or trust the notebook. <br />On GitHub, the HTML representation is unable to render, please try loading this page with nbviewer.org.</b></div><div class=\"sk-container\" hidden><div class=\"sk-item sk-dashed-wrapped\"><div class=\"sk-label-container\"><div class=\"sk-label sk-toggleable\"><input class=\"sk-toggleable__control sk-hidden--visually\" id=\"sk-estimator-id-1\" type=\"checkbox\" ><label for=\"sk-estimator-id-1\" class=\"sk-toggleable__label sk-toggleable__label-arrow\">Pipeline</label><div class=\"sk-toggleable__content\"><pre>Pipeline(steps=[(&#x27;scaler&#x27;, StandardScaler()),\n",
       "                (&#x27;classifier&#x27;, LogisticRegression())])</pre></div></div></div><div class=\"sk-serial\"><div class=\"sk-item\"><div class=\"sk-estimator sk-toggleable\"><input class=\"sk-toggleable__control sk-hidden--visually\" id=\"sk-estimator-id-2\" type=\"checkbox\" ><label for=\"sk-estimator-id-2\" class=\"sk-toggleable__label sk-toggleable__label-arrow\">StandardScaler</label><div class=\"sk-toggleable__content\"><pre>StandardScaler()</pre></div></div></div><div class=\"sk-item\"><div class=\"sk-estimator sk-toggleable\"><input class=\"sk-toggleable__control sk-hidden--visually\" id=\"sk-estimator-id-3\" type=\"checkbox\" ><label for=\"sk-estimator-id-3\" class=\"sk-toggleable__label sk-toggleable__label-arrow\">LogisticRegression</label><div class=\"sk-toggleable__content\"><pre>LogisticRegression()</pre></div></div></div></div></div></div></div>"
      ],
      "text/plain": [
       "Pipeline(steps=[('scaler', StandardScaler()),\n",
       "                ('classifier', LogisticRegression())])"
      ]
     },
     "execution_count": 25,
     "metadata": {},
     "output_type": "execute_result"
    }
   ],
   "source": [
    "#Entraitement du modèle\n",
    "pipe_modele.fit(X_train,y_train)"
   ]
  },
  {
   "cell_type": "code",
   "execution_count": 26,
   "id": "7b1b4e20",
   "metadata": {},
   "outputs": [
    {
     "data": {
      "text/plain": [
       "0.725"
      ]
     },
     "execution_count": 26,
     "metadata": {},
     "output_type": "execute_result"
    }
   ],
   "source": [
    "# Calcul de score du modèle\n",
    "pipe_modele.score(X_test, y_test)"
   ]
  },
  {
   "cell_type": "code",
   "execution_count": 27,
   "id": "8cba037d",
   "metadata": {},
   "outputs": [
    {
     "data": {
      "text/plain": [
       "['../backend/src/model/pipe_modele.model']"
      ]
     },
     "execution_count": 27,
     "metadata": {},
     "output_type": "execute_result"
    }
   ],
   "source": [
    "# Sauvegarde du modele\n",
    "joblib.dump(pipe_modele, \"../backend/src/model/pipe_modele.model\")"
   ]
  },
  {
   "cell_type": "code",
   "execution_count": 28,
   "id": "95657fd9",
   "metadata": {},
   "outputs": [],
   "source": [
    "df = {\n",
    "\t\"PRG\" : 6,\n",
    "\t\"PL\" : 148,\n",
    "\t\"PR\" : 72,\n",
    "\t\"SK\" : 35,\n",
    "\t\"TS\" : 0,\n",
    "\t\"M11\" : 33.6,\n",
    "\t\"BD2\" : 0.627,\n",
    "\t\"Age\" : 50,\n",
    "\t\"Insurance\" : 0\n",
    "}"
   ]
  },
  {
   "cell_type": "code",
   "execution_count": 29,
   "id": "846eaf49",
   "metadata": {},
   "outputs": [
    {
     "data": {
      "text/html": [
       "<div>\n",
       "<style scoped>\n",
       "    .dataframe tbody tr th:only-of-type {\n",
       "        vertical-align: middle;\n",
       "    }\n",
       "\n",
       "    .dataframe tbody tr th {\n",
       "        vertical-align: top;\n",
       "    }\n",
       "\n",
       "    .dataframe thead th {\n",
       "        text-align: right;\n",
       "    }\n",
       "</style>\n",
       "<table border=\"1\" class=\"dataframe\">\n",
       "  <thead>\n",
       "    <tr style=\"text-align: right;\">\n",
       "      <th></th>\n",
       "      <th>PRG</th>\n",
       "      <th>PL</th>\n",
       "      <th>PR</th>\n",
       "      <th>SK</th>\n",
       "      <th>TS</th>\n",
       "      <th>M11</th>\n",
       "      <th>BD2</th>\n",
       "      <th>Age</th>\n",
       "      <th>Insurance</th>\n",
       "    </tr>\n",
       "  </thead>\n",
       "  <tbody>\n",
       "    <tr>\n",
       "      <th>0</th>\n",
       "      <td>6</td>\n",
       "      <td>148</td>\n",
       "      <td>72</td>\n",
       "      <td>35</td>\n",
       "      <td>0</td>\n",
       "      <td>33.6</td>\n",
       "      <td>0.627</td>\n",
       "      <td>50</td>\n",
       "      <td>0</td>\n",
       "    </tr>\n",
       "  </tbody>\n",
       "</table>\n",
       "</div>"
      ],
      "text/plain": [
       "   PRG   PL  PR  SK  TS   M11    BD2  Age  Insurance\n",
       "0    6  148  72  35   0  33.6  0.627   50          0"
      ]
     },
     "execution_count": 29,
     "metadata": {},
     "output_type": "execute_result"
    }
   ],
   "source": [
    "t = pd.DataFrame([df])\n",
    "t"
   ]
  },
  {
   "cell_type": "code",
   "execution_count": 30,
   "id": "0c943924",
   "metadata": {},
   "outputs": [
    {
     "data": {
      "text/plain": [
       "array([1])"
      ]
     },
     "execution_count": 30,
     "metadata": {},
     "output_type": "execute_result"
    }
   ],
   "source": [
    "pipe_modele.predict(t)"
   ]
  },
  {
   "cell_type": "code",
   "execution_count": null,
   "id": "7d66157e",
   "metadata": {},
   "outputs": [],
   "source": []
  }
 ],
 "metadata": {
  "kernelspec": {
   "display_name": "Python 3 (ipykernel)",
   "language": "python",
   "name": "python3"
  },
  "language_info": {
   "codemirror_mode": {
    "name": "ipython",
    "version": 3
   },
   "file_extension": ".py",
   "mimetype": "text/x-python",
   "name": "python",
   "nbconvert_exporter": "python",
   "pygments_lexer": "ipython3",
   "version": "3.9.13"
  }
 },
 "nbformat": 4,
 "nbformat_minor": 5
}
